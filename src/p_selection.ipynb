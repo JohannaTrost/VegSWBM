{
 "cells": [
  {
   "cell_type": "code",
   "execution_count": 1,
   "metadata": {},
   "outputs": [],
   "source": [
    "# Necessary libraries\n",
    "\n",
    "import os\n",
    "os.chdir('..')\n",
    "\n",
    "import matplotlib.pyplot as plt\n",
    "import seaborn as sns\n",
    "from scipy.optimize import minimize\n",
    "\n",
    "from src.swbm import *\n",
    "from src.plots import *\n",
    "from src.utils import *\n",
    "\n",
    "np.random.seed(42)"
   ]
  },
  {
   "cell_type": "code",
   "execution_count": 2,
   "metadata": {},
   "outputs": [],
   "source": [
    "# Load data\n",
    "input_swbm_raw = pd.read_csv('data/Data_swbm_Germany.csv')\n",
    "input_swbm = prepro(input_swbm_raw)"
   ]
  },
  {
   "cell_type": "markdown",
   "metadata": {},
   "source": [
    "# Constant SWBM Parameters"
   ]
  },
  {
   "cell_type": "code",
   "execution_count": 3,
   "metadata": {},
   "outputs": [
    {
     "data": {
      "text/html": [
       "<div>\n",
       "<style scoped>\n",
       "    .dataframe tbody tr th:only-of-type {\n",
       "        vertical-align: middle;\n",
       "    }\n",
       "\n",
       "    .dataframe tbody tr th {\n",
       "        vertical-align: top;\n",
       "    }\n",
       "\n",
       "    .dataframe thead th {\n",
       "        text-align: right;\n",
       "    }\n",
       "</style>\n",
       "<table border=\"1\" class=\"dataframe\">\n",
       "  <thead>\n",
       "    <tr style=\"text-align: right;\">\n",
       "      <th></th>\n",
       "      <th>parameter</th>\n",
       "      <th>kind</th>\n",
       "      <th>corr</th>\n",
       "      <th>pval</th>\n",
       "    </tr>\n",
       "  </thead>\n",
       "  <tbody>\n",
       "    <tr>\n",
       "      <th>0</th>\n",
       "      <td>None\\nSeasonal</td>\n",
       "      <td>sm</td>\n",
       "      <td>0.878382</td>\n",
       "      <td>0.000000e+00</td>\n",
       "    </tr>\n",
       "    <tr>\n",
       "      <th>1</th>\n",
       "      <td>None\\nSeasonal</td>\n",
       "      <td>ro</td>\n",
       "      <td>0.483657</td>\n",
       "      <td>1.077349e-234</td>\n",
       "    </tr>\n",
       "    <tr>\n",
       "      <th>2</th>\n",
       "      <td>None\\nSeasonal</td>\n",
       "      <td>le</td>\n",
       "      <td>-0.592983</td>\n",
       "      <td>0.000000e+00</td>\n",
       "    </tr>\n",
       "  </tbody>\n",
       "</table>\n",
       "</div>"
      ],
      "text/plain": [
       "        parameter kind      corr           pval\n",
       "0  None\\nSeasonal   sm  0.878382   0.000000e+00\n",
       "1  None\\nSeasonal   ro  0.483657  1.077349e-234\n",
       "2  None\\nSeasonal   le -0.592983   0.000000e+00"
      ]
     },
     "execution_count": 3,
     "metadata": {},
     "output_type": "execute_result"
    }
   ],
   "source": [
    "# ---- Constant model\n",
    "\n",
    "const_swbm_params = {'c_s': 420, 'b0': 0.8, 'g': .5, 'a': 4}\n",
    "\n",
    "# Run SWBM without seasonal variation\n",
    "moists, runoffs, ets = predict_ts(input_swbm, const_swbm_params)\n",
    "eval_df = eval_swbm(input_swbm,\n",
    "                    {'sm': moists, 'ro': runoffs, 'le': ets},\n",
    "                    'None\\nSeasonal')\n",
    "eval_df"
   ]
  },
  {
   "cell_type": "markdown",
   "metadata": {},
   "source": [
    "# Seasonal variation of single parameters "
   ]
  },
  {
   "cell_type": "code",
   "execution_count": 4,
   "metadata": {},
   "outputs": [
    {
     "name": "stdout",
     "output_type": "stream",
     "text": [
      "Optimization terminated successfully.\n",
      "         Current function value: -0.893547\n",
      "         Iterations: 16\n",
      "         Function evaluations: 100\n",
      "         Gradient evaluations: 20\n",
      "Optimization terminated successfully.\n",
      "         Current function value: -0.892720\n",
      "         Iterations: 39\n",
      "         Function evaluations: 225\n",
      "         Gradient evaluations: 45\n",
      "Optimization terminated successfully.\n",
      "         Current function value: -0.527787\n",
      "         Iterations: 33\n",
      "         Function evaluations: 215\n",
      "         Gradient evaluations: 43\n"
     ]
    }
   ],
   "source": [
    "# ---- Seasonal Variation for single parameter\n",
    "param_opt_sin_init = {'b0': [0.5, 2, 5, 0.8],\n",
    "                      'g': [0.1, 2, 5, 0.5],\n",
    "                      'a': [1, 2, 5, 4]}\n",
    "\n",
    "single_preds = {'b0': {}, 'g': {}, 'a': {}}\n",
    "opt_params_dfs = {'b0': {}, 'g': {}, 'a': {}}\n",
    "\n",
    "for swbm_param, init_values in param_opt_sin_init.items():\n",
    "    np.random.seed(42)\n",
    "    const_swbm_params = {'c_s': 420, 'b0': 0.8, 'g': .5, 'a': 4}\n",
    "    res = minimize(opt_swbm_corr,\n",
    "                   np.asarray(init_values).flatten(),  # has to be 1D\n",
    "                   args=(input_swbm, const_swbm_params, swbm_param),\n",
    "                   options={\"maxiter\": 500, \"disp\": True})\n",
    "    opt_params_df = minimize_res2df(res, [swbm_param])\n",
    "\n",
    "    # Set swbm const_swbm_params\n",
    "    params_seasonal = {'c_s': 420, 'b0': 0.8, 'g': .5, 'a': 4}\n",
    "    # Get sinus curve for current single parameter\n",
    "    params_seasonal[swbm_param] = seasonal_sinus(\n",
    "        len(input_swbm),\n",
    "        amplitude=opt_params_df.loc['amplitude', swbm_param],\n",
    "        freq=opt_params_df.loc['freq', swbm_param],\n",
    "        phase=opt_params_df.loc['phase', swbm_param],\n",
    "        center=opt_params_df.loc['center', swbm_param],\n",
    "        which=swbm_param\n",
    "    )\n",
    "\n",
    "    # Run SWBM\n",
    "    preds_seasonal = predict_ts(input_swbm, params_seasonal)\n",
    "    moists_seasonal, runoffs_seasonal, ets_seasonal = preds_seasonal\n",
    "\n",
    "    single_preds[swbm_param]['sm'] = moists_seasonal\n",
    "    single_preds[swbm_param]['ro'] = runoffs_seasonal\n",
    "    single_preds[swbm_param]['le'] = ets_seasonal\n",
    "\n",
    "    for param in ['amplitude', 'freq', 'phase', 'center']:\n",
    "        opt_params_dfs[swbm_param][param] = opt_params_df.loc[param, swbm_param]\n",
    "\n",
    "    # Test correlation\n",
    "    eval_df = pd.concat((eval_df, eval_swbm(input_swbm,\n",
    "                                            single_preds[swbm_param],\n",
    "                                            swbm_param)))"
   ]
  },
  {
   "cell_type": "code",
   "execution_count": 5,
   "metadata": {},
   "outputs": [
    {
     "data": {
      "text/html": [
       "<div>\n",
       "<style scoped>\n",
       "    .dataframe tbody tr th:only-of-type {\n",
       "        vertical-align: middle;\n",
       "    }\n",
       "\n",
       "    .dataframe tbody tr th {\n",
       "        vertical-align: top;\n",
       "    }\n",
       "\n",
       "    .dataframe thead th {\n",
       "        text-align: right;\n",
       "    }\n",
       "</style>\n",
       "<table border=\"1\" class=\"dataframe\">\n",
       "  <thead>\n",
       "    <tr style=\"text-align: right;\">\n",
       "      <th>kind</th>\n",
       "      <th>le</th>\n",
       "      <th>ro</th>\n",
       "      <th>sm</th>\n",
       "    </tr>\n",
       "    <tr>\n",
       "      <th>parameter</th>\n",
       "      <th></th>\n",
       "      <th></th>\n",
       "      <th></th>\n",
       "    </tr>\n",
       "  </thead>\n",
       "  <tbody>\n",
       "    <tr>\n",
       "      <th>b0</th>\n",
       "      <td>0.910346</td>\n",
       "      <td>0.463527</td>\n",
       "      <td>0.893547</td>\n",
       "    </tr>\n",
       "    <tr>\n",
       "      <th>g</th>\n",
       "      <td>-0.110674</td>\n",
       "      <td>0.450739</td>\n",
       "      <td>0.892720</td>\n",
       "    </tr>\n",
       "    <tr>\n",
       "      <th>None\\nSeasonal</th>\n",
       "      <td>-0.592983</td>\n",
       "      <td>0.483657</td>\n",
       "      <td>0.878382</td>\n",
       "    </tr>\n",
       "    <tr>\n",
       "      <th>a</th>\n",
       "      <td>-0.531490</td>\n",
       "      <td>0.527787</td>\n",
       "      <td>0.837895</td>\n",
       "    </tr>\n",
       "  </tbody>\n",
       "</table>\n",
       "</div>"
      ],
      "text/plain": [
       "kind                  le        ro        sm\n",
       "parameter                                   \n",
       "b0              0.910346  0.463527  0.893547\n",
       "g              -0.110674  0.450739  0.892720\n",
       "None\\nSeasonal -0.592983  0.483657  0.878382\n",
       "a              -0.531490  0.527787  0.837895"
      ]
     },
     "execution_count": 5,
     "metadata": {},
     "output_type": "execute_result"
    }
   ],
   "source": [
    "eval_df.pivot(index='parameter', columns='kind', values='corr').sort_values(by='sm', ascending=False)"
   ]
  },
  {
   "cell_type": "markdown",
   "metadata": {},
   "source": [
    "# Importance of parameters to be seaonal"
   ]
  },
  {
   "cell_type": "markdown",
   "metadata": {},
   "source": [
    "### Optimize all SWBM parameters to be seasonal"
   ]
  },
  {
   "cell_type": "code",
   "execution_count": 6,
   "metadata": {},
   "outputs": [
    {
     "name": "stdout",
     "output_type": "stream",
     "text": [
      "Optimization terminated successfully.\n",
      "         Current function value: -0.936783\n",
      "         Iterations: 232\n",
      "         Function evaluations: 5746\n",
      "         Gradient evaluations: 338\n"
     ]
    }
   ],
   "source": [
    "# ---- Optimize all\n",
    "\n",
    "# initialize parameters and sinus const_swbm_params\n",
    "init_sinus_params_all = [[0.5, 2, 5, 420],\n",
    "                         # c_s (amplitude, freq, phase, center)\n",
    "                         [0.5, 2, 5, 0.8],  # b0 -> max. ET\n",
    "                         [0.1, 2, 5, 0.5],  # g -> ET function shape\n",
    "                         [1, 2, 5, 4]]  # a -> runoff function shape\n",
    "make_seasonal_all = ['c_s', 'b0', 'g', 'a']\n",
    "\n",
    "# optimize sinus parameters\n",
    "np.random.seed(42)\n",
    "res_all = minimize(opt_swbm_corr,\n",
    "                   np.asarray(init_sinus_params_all).flatten(),  # has to be 1D\n",
    "                   args=(input_swbm, {}, make_seasonal_all),\n",
    "                   options={\"maxiter\": 500, \"disp\": True})\n",
    "# extract optimized sinus parameters\n",
    "opt_params_all_df = minimize_res2df(res_all, make_seasonal_all)\n",
    "\n",
    "# get optimized seasonal parameters\n",
    "opt_sinus_all = {}\n",
    "for swbm_param in opt_params_all_df:\n",
    "    opt_sinus_all[swbm_param] = seasonal_sinus(\n",
    "        len(input_swbm),\n",
    "        amplitude=opt_params_all_df.loc['amplitude', swbm_param],\n",
    "        freq=opt_params_all_df.loc['freq', swbm_param],\n",
    "        phase=opt_params_all_df.loc['phase', swbm_param],\n",
    "        center=opt_params_all_df.loc['center', swbm_param],\n",
    "        which=swbm_param\n",
    "    )\n",
    "\n",
    "# Run SWBM\n",
    "preds_all = predict_ts(input_swbm, opt_sinus_all)\n",
    "preds_seasonal_all = {'sm': preds_all[0],\n",
    "                      'ro': preds_all[1],  # messed up sinus phase here\n",
    "                      'le': preds_all[2]}\n",
    "# get correlations\n",
    "eval_df = pd.concat((eval_df, eval_swbm(input_swbm, preds_seasonal_all, 'all')))"
   ]
  },
  {
   "cell_type": "code",
   "execution_count": 7,
   "metadata": {},
   "outputs": [
    {
     "data": {
      "text/html": [
       "<div>\n",
       "<style scoped>\n",
       "    .dataframe tbody tr th:only-of-type {\n",
       "        vertical-align: middle;\n",
       "    }\n",
       "\n",
       "    .dataframe tbody tr th {\n",
       "        vertical-align: top;\n",
       "    }\n",
       "\n",
       "    .dataframe thead th {\n",
       "        text-align: right;\n",
       "    }\n",
       "</style>\n",
       "<table border=\"1\" class=\"dataframe\">\n",
       "  <thead>\n",
       "    <tr style=\"text-align: right;\">\n",
       "      <th>kind</th>\n",
       "      <th>le</th>\n",
       "      <th>ro</th>\n",
       "      <th>sm</th>\n",
       "    </tr>\n",
       "    <tr>\n",
       "      <th>parameter</th>\n",
       "      <th></th>\n",
       "      <th></th>\n",
       "      <th></th>\n",
       "    </tr>\n",
       "  </thead>\n",
       "  <tbody>\n",
       "    <tr>\n",
       "      <th>all</th>\n",
       "      <td>0.878091</td>\n",
       "      <td>0.309907</td>\n",
       "      <td>0.936783</td>\n",
       "    </tr>\n",
       "    <tr>\n",
       "      <th>b0</th>\n",
       "      <td>0.910346</td>\n",
       "      <td>0.463527</td>\n",
       "      <td>0.893547</td>\n",
       "    </tr>\n",
       "    <tr>\n",
       "      <th>g</th>\n",
       "      <td>-0.110674</td>\n",
       "      <td>0.450739</td>\n",
       "      <td>0.892720</td>\n",
       "    </tr>\n",
       "    <tr>\n",
       "      <th>None\\nSeasonal</th>\n",
       "      <td>-0.592983</td>\n",
       "      <td>0.483657</td>\n",
       "      <td>0.878382</td>\n",
       "    </tr>\n",
       "    <tr>\n",
       "      <th>a</th>\n",
       "      <td>-0.531490</td>\n",
       "      <td>0.527787</td>\n",
       "      <td>0.837895</td>\n",
       "    </tr>\n",
       "  </tbody>\n",
       "</table>\n",
       "</div>"
      ],
      "text/plain": [
       "kind                  le        ro        sm\n",
       "parameter                                   \n",
       "all             0.878091  0.309907  0.936783\n",
       "b0              0.910346  0.463527  0.893547\n",
       "g              -0.110674  0.450739  0.892720\n",
       "None\\nSeasonal -0.592983  0.483657  0.878382\n",
       "a              -0.531490  0.527787  0.837895"
      ]
     },
     "execution_count": 7,
     "metadata": {},
     "output_type": "execute_result"
    }
   ],
   "source": [
    "eval_df.pivot(index='parameter', columns='kind', values='corr').sort_values(by='sm', ascending=False)"
   ]
  },
  {
   "cell_type": "markdown",
   "metadata": {},
   "source": [
    "### Leaf one out for optimization"
   ]
  },
  {
   "cell_type": "code",
   "execution_count": null,
   "metadata": {},
   "outputs": [
    {
     "name": "stderr",
     "output_type": "stream",
     "text": [
      "/Users/johanna/PycharmProjects/envstats/env/lib/python3.11/site-packages/scipy/optimize/_minimize.py:705: OptimizeWarning: Desired error not necessarily achieved due to precision loss.\n",
      "  res = _minimize_bfgs(fun, x0, args, jac, callback, **options)\n"
     ]
    },
    {
     "name": "stdout",
     "output_type": "stream",
     "text": [
      "         Current function value: -0.930612\n",
      "         Iterations: 78\n",
      "         Function evaluations: 1905\n",
      "         Gradient evaluations: 146\n",
      "Optimization terminated successfully.\n",
      "         Current function value: -0.912412\n",
      "         Iterations: 109\n",
      "         Function evaluations: 1534\n",
      "         Gradient evaluations: 118\n"
     ]
    }
   ],
   "source": [
    "# ---- Optimize all except for one parameter\n",
    "\n",
    "init_sinus_params_all = np.asarray(init_sinus_params_all)\n",
    "for i, swbm_param in enumerate(make_seasonal_all):\n",
    "    const_swbm_params = {'c_s': 420, 'b0': 0.8, 'g': .5, 'a': 4}\n",
    "    # optimize sinus parameters\n",
    "    np.random.seed(42)\n",
    "    # exclude current param. from init values and list of params\n",
    "    make_seasonal_tmp = [p for p in make_seasonal_all if p != swbm_param]\n",
    "    init_sinus_params_tmp = np.delete(init_sinus_params_all, i, axis=0)\n",
    "    res_tmp = minimize(opt_swbm_corr,\n",
    "                       init_sinus_params_tmp.flatten(),\n",
    "                       # has to be 1D\n",
    "                       args=(input_swbm, const_swbm_params, make_seasonal_tmp),\n",
    "                       options={\"maxiter\": 500, \"disp\": True})\n",
    "    # extract optimized sinus parameters\n",
    "    opt_params_df = minimize_res2df(res_tmp, make_seasonal_tmp)\n",
    "\n",
    "    # get optimized seasonal parameters\n",
    "    opt_sinus = {'c_s': 420, 'b0': 0.8, 'g': .5, 'a': 4}\n",
    "    for p in opt_params_df:\n",
    "        opt_sinus[p] = seasonal_sinus(\n",
    "            len(input_swbm),\n",
    "            amplitude=opt_params_df.loc['amplitude', p],\n",
    "            freq=opt_params_df.loc['freq', p],\n",
    "            phase=opt_params_df.loc['phase', p],\n",
    "            center=opt_params_df.loc['center', p],\n",
    "            which=p\n",
    "        )\n",
    "\n",
    "    # Run SWBM\n",
    "    model_sm, model_ro, model_le = predict_ts(input_swbm, opt_sinus)\n",
    "    preds_seasonal = {'sm': model_sm, 'ro': model_ro, 'le': model_le}\n",
    "    # get correlations\n",
    "    eval_df = pd.concat(\n",
    "        (eval_df, eval_swbm(input_swbm, preds_seasonal, f'not {swbm_param}')))"
   ]
  },
  {
   "cell_type": "markdown",
   "metadata": {},
   "source": [
    "### Parameter Importance"
   ]
  },
  {
   "cell_type": "code",
   "execution_count": null,
   "metadata": {},
   "outputs": [],
   "source": [
    "# get parameter importance\n",
    "reference_corr = (eval_df[(eval_df['parameter'] == 'all')\n",
    "                          & (eval_df['kind'] == 'sm')]['corr'].values[0])\n",
    "is_excluded = eval_df['parameter'].isin(['not b0', 'not g', 'not a', 'not c_s'])\n",
    "excl_corr = eval_df[(eval_df['kind'] == 'sm') & is_excluded]\n",
    "# Extract feature importances\n",
    "feature_importances = (\n",
    "    excl_corr.assign(parameter=lambda x: x['parameter'].str.replace('not ', ''),\n",
    "                     # Remove \"not \" from parameter names\n",
    "                     feature_importance=lambda x: reference_corr - x['corr'])\n",
    "    [['parameter', 'feature_importance']]\n",
    ")"
   ]
  },
  {
   "cell_type": "code",
   "execution_count": null,
   "metadata": {},
   "outputs": [],
   "source": [
    "# plot parameter importance\n",
    "plt.figure(figsize=(8, 5))\n",
    "plot_param_importance(feature_importances)"
   ]
  },
  {
   "cell_type": "markdown",
   "metadata": {},
   "source": [
    "# Model Comparison"
   ]
  },
  {
   "cell_type": "markdown",
   "metadata": {},
   "source": [
    "### Average scores\n",
    "Average of the correlations for runoff, evapotranspiration and soil moisture for each model."
   ]
  },
  {
   "cell_type": "code",
   "execution_count": null,
   "metadata": {},
   "outputs": [],
   "source": [
    "# average across sm, ro and et correlation and plot scores\n",
    "plt.figure(figsize=(5, 3))\n",
    "plot_avg_scores(eval_df)"
   ]
  },
  {
   "cell_type": "markdown",
   "metadata": {},
   "source": [
    "### All correlation scores"
   ]
  },
  {
   "cell_type": "code",
   "execution_count": null,
   "metadata": {},
   "outputs": [],
   "source": [
    "# Plot single opt results\n",
    "pivot_df = eval_df.pivot(index='parameter', columns='kind',\n",
    "                         values='corr')\n",
    "pivot_df = pivot_df.sort_values(by='sm', ascending=False)\n",
    "\n",
    "ax = pivot_df.plot(kind='bar', width=0.7, figsize=(8, 5), colormap='viridis')\n",
    "for p in ax.patches:\n",
    "    ax.annotate(str(round(p.get_height(), 2)),\n",
    "                (p.get_x() + p.get_width() / 2., p.get_height()),\n",
    "                ha='center', va='center', xytext=(0, 10),\n",
    "                textcoords='offset points')\n",
    "# Adding labels and title\n",
    "ax.set_xlabel('Parameter')\n",
    "ax.set_ylabel('Correlation')\n",
    "\n",
    "# Show the plot\n",
    "plt.tight_layout()\n",
    "plt.show()"
   ]
  },
  {
   "cell_type": "markdown",
   "metadata": {},
   "source": [
    "### Runoff is getting worse"
   ]
  },
  {
   "cell_type": "code",
   "execution_count": null,
   "metadata": {},
   "outputs": [],
   "source": [
    "# whats wrong with runoff\n",
    "year_mask = [date.year == 2010 or date.year == 2011 or\n",
    "             date.year == 2012 for date in input_swbm['time']]\n",
    "\n",
    "plt.figure(figsize=(10, 5))\n",
    "plt.plot(input_swbm['time'][year_mask], input_swbm['ro'][year_mask],\n",
    "         label='Observed')\n",
    "plt.plot(input_swbm['time'][year_mask], single_preds['a']['ro'][year_mask],\n",
    "         label='Sinus Alpha')\n",
    "plt.plot(input_swbm['time'][year_mask], preds_all[1][year_mask],\n",
    "         label='All')\n",
    "plt.plot(input_swbm['time'][year_mask], runoffs[year_mask],\n",
    "         label='Constant Alpha')\n",
    "plt.xticks(rotation=45)\n",
    "plt.legend()\n",
    "plt.tight_layout()\n",
    "plt.show()"
   ]
  },
  {
   "cell_type": "markdown",
   "metadata": {},
   "source": [
    "# Final Model"
   ]
  },
  {
   "cell_type": "code",
   "execution_count": null,
   "metadata": {},
   "outputs": [],
   "source": [
    "# visualize b0-model vs. constant-model vs. observed\n",
    "year_mask = [date.year == 2010 or date.year == 2011\n",
    "             for date in input_swbm['time']]\n",
    "x_ticks = input_swbm['time'][year_mask]\n",
    "\n",
    "fig, ax = plt.subplots(nrows=3, figsize=(9, 16))\n",
    "\n",
    "ax[0].plot(x_ticks, input_swbm['sm'][year_mask] * 1000,\n",
    "           label='Observed')\n",
    "ax[0].plot(x_ticks, single_preds['b0']['sm'][year_mask],\n",
    "           label='B0-seasonal-model')\n",
    "ax[0].plot(x_ticks, moists[year_mask],\n",
    "           label='Constant model')\n",
    "ax[0].set_title('Soil moisture')\n",
    "ax[0].legend()\n",
    "\n",
    "ax[1].plot(x_ticks, input_swbm['le'][year_mask],\n",
    "           label='Observed')\n",
    "ax[1].plot(x_ticks, single_preds['b0']['le'][year_mask],\n",
    "           label='B0-seasonal-model')\n",
    "ax[1].plot(x_ticks, ets[year_mask],\n",
    "           label='Constant model')\n",
    "ax[1].set_title('Evapotranspiration')\n",
    "ax[1].legend()\n",
    "\n",
    "ax[2].plot(x_ticks, input_swbm['ro'][year_mask],\n",
    "           label='Observed')\n",
    "ax[2].plot(x_ticks,\n",
    "           single_preds['b0']['ro'][year_mask],\n",
    "           label='B0-seasonal-model')\n",
    "ax[2].plot(x_ticks, runoffs[year_mask],\n",
    "           label='Constant model')\n",
    "ax[2].set_title('Runoff')\n",
    "ax[2].legend()\n",
    "\n",
    "plt.tight_layout()\n",
    "plt.show()"
   ]
  },
  {
   "cell_type": "markdown",
   "metadata": {},
   "source": [
    "## Seasonal curve of B0"
   ]
  },
  {
   "cell_type": "code",
   "execution_count": null,
   "metadata": {},
   "outputs": [],
   "source": [
    "np.round(pd.DataFrame(opt_params_dfs['b0'], index=[0]), 4)"
   ]
  },
  {
   "cell_type": "code",
   "execution_count": null,
   "metadata": {},
   "outputs": [],
   "source": [
    "seasonal_b0 = seasonal_sinus(len(x_ticks),\n",
    "                             amplitude=opt_params_dfs['b0']['amplitude'],\n",
    "                             freq=opt_params_dfs['b0']['freq'],\n",
    "                             phase=opt_params_dfs['b0']['phase'],\n",
    "                             center=opt_params_dfs['b0']['center'], which='b0')\n",
    "# plot our sinus for B0\n",
    "plt.plot(x_ticks, seasonal_b0)\n",
    "plt.xticks(rotation=45)\n",
    "plt.show()"
   ]
  }
 ],
 "metadata": {
  "kernelspec": {
   "display_name": "Python env",
   "language": "python",
   "name": "env"
  },
  "language_info": {
   "codemirror_mode": {
    "name": "ipython",
    "version": 3
   },
   "file_extension": ".py",
   "mimetype": "text/x-python",
   "name": "python",
   "nbconvert_exporter": "python",
   "pygments_lexer": "ipython3",
   "version": "3.11.4"
  }
 },
 "nbformat": 4,
 "nbformat_minor": 2
}
