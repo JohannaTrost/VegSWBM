{
 "cells": [
  {
   "cell_type": "code",
   "execution_count": 1,
   "metadata": {},
   "outputs": [],
   "source": [
    "\n",
    "from itertools import product\n",
    "import matplotlib.pyplot as plt\n",
    "import seaborn as sns\n",
    "from scipy.optimize import minimize\n",
    "import os\n",
    "os.chdir('..')\n",
    "from src.swbm import *\n",
    "from src.plots import *\n",
    "from src.utils import *\n",
    "\n"
   ]
  },
  {
   "cell_type": "code",
   "execution_count": 16,
   "metadata": {},
   "outputs": [],
   "source": [
    "# Values for each variable\n",
    "\n",
    "cs = [210, 420, 840]\n",
    "b0 = [0.4, 0.6, 0.8]\n",
    "g = [0.2, 0.5, 0.8]\n",
    "a = [2, 4, 8]\n",
    "\n",
    "# Generate all combinations using itertools.product\n",
    "all_combinations = list(product(cs, b0, g, a))"
   ]
  },
  {
   "cell_type": "code",
   "execution_count": 17,
   "metadata": {},
   "outputs": [],
   "source": [
    "# Load and pre-process data\n",
    "input_swbm_raw = pd.read_csv('data/Data_swbm_Germany.csv')\n",
    "input_swbm = prepro(input_swbm_raw)"
   ]
  },
  {
   "cell_type": "code",
   "execution_count": 76,
   "metadata": {},
   "outputs": [],
   "source": [
    "# test\n",
    "test_combinations = all_combinations[:5]\n",
    "swbm_param = 'b0'\n",
    "np.random.seed(42)\n",
    "results_all = []\n",
    "\n",
    "\n",
    "for combination in test_combinations:\n",
    "    # Run SWBM without seasonal variation\n",
    "    #break\n",
    "    const_swbm_params = {'c_s': 420, \n",
    "                         'b0': combination[1], \n",
    "                         'g': combination[2], \n",
    "                         'a': combination[3]}\n",
    "\n",
    "    # optimize sinus params for b0\n",
    "    init_values = [0.5, 2, 5, combination[1]]\n",
    "\n",
    "    res = minimize(opt_swbm_corr,\n",
    "                np.asarray(init_values).flatten(),  # has to be 1D\n",
    "                args=(input_swbm, const_swbm_params, swbm_param),\n",
    "                options={\"maxiter\": 500, \"disp\": False})\n",
    "    opt_params_df = minimize_res2df(res, [swbm_param])\n",
    "    \n",
    "    # Set swbm const_swbm_params\n",
    "    params_seasonal = {'c_s': combination[0], \n",
    "                         'b0': combination[1], \n",
    "                         'g': combination[2], \n",
    "                         'a': combination[3]}\n",
    "\n",
    "    # Get sinus curve for current single parameter\n",
    "    params_seasonal[swbm_param] = seasonal_sinus(\n",
    "        len(input_swbm),\n",
    "        amplitude=opt_params_df.loc['amplitude', swbm_param],\n",
    "        freq=opt_params_df.loc['freq', swbm_param],\n",
    "        phase=opt_params_df.loc['phase', swbm_param],\n",
    "        center=opt_params_df.loc['center', swbm_param],\n",
    "        which=swbm_param\n",
    "    )\n",
    "\n",
    "    # Run SWBM with optimized seasonal b0\n",
    "    preds_seasonal = predict_ts(input_swbm, params_seasonal)\n",
    "    moists_seasonal, runoffs_seasonal, ets_seasonal = preds_seasonal\n",
    "\n",
    "    # calculate correlation\n",
    "    eval_df = eval_swbm(input_swbm,\n",
    "                        {'sm': moists_seasonal,\n",
    "                        'ro': runoffs_seasonal,\n",
    "                        'le': ets_seasonal},\n",
    "                        swbm_param)\n",
    "\n",
    "   # save all results in dict \n",
    "    combination_dict = {\n",
    "        'Combination': combination,\n",
    "        'sum_corr': eval_df['corr'].sum(),\n",
    "        'SinusParameters': opt_params_df,\n",
    "        'eval_df': eval_df\n",
    "    }\n",
    "\n",
    "    results_all.append(combination_dict)"
   ]
  },
  {
   "cell_type": "code",
   "execution_count": 79,
   "metadata": {},
   "outputs": [],
   "source": [
    "# get dict with highes corr_sum score\n",
    "max_sum_corr_dict = max(results_all, key=lambda x: x['sum_corr'])\n",
    "max_sum_corr_dict"
   ]
  }
 ],
 "metadata": {
  "kernelspec": {
   "display_name": "esm",
   "language": "python",
   "name": "python3"
  },
  "language_info": {
   "codemirror_mode": {
    "name": "ipython",
    "version": 3
   },
   "file_extension": ".py",
   "mimetype": "text/x-python",
   "name": "python",
   "nbconvert_exporter": "python",
   "pygments_lexer": "ipython3",
   "version": "3.11.7"
  }
 },
 "nbformat": 4,
 "nbformat_minor": 2
}
