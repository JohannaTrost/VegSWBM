{
 "cells": [
  {
   "cell_type": "code",
   "execution_count": 1,
   "metadata": {},
   "outputs": [],
   "source": [
    "\n",
    "from itertools import product\n",
    "import matplotlib.pyplot as plt\n",
    "import seaborn as sns\n",
    "from scipy.optimize import minimize\n",
    "import json\n",
    "\n",
    "import os\n",
    "os.chdir('..')\n",
    "\n",
    "from src.swbm import *\n",
    "from src.plots import *\n",
    "from src.utils import *\n",
    "\n",
    "#%pwd"
   ]
  },
  {
   "cell_type": "code",
   "execution_count": 2,
   "metadata": {},
   "outputs": [],
   "source": [
    "# Load data and format\n",
    "input_swbm_ger = pd.read_csv('data/Data_swbm_Germany.csv')\n",
    "input_ger = prepro(input_swbm_ger)\n",
    "\n",
    "input_swbm_swe = pd.read_csv('data/Data_swbm_Sweden.csv')\n",
    "input_swe = prepro(input_swbm_swe)\n",
    "\n",
    "input_swbm_esp = pd.read_csv('data/Data_swbm_Spain.csv')\n",
    "input_esp = prepro(input_swbm_esp)\n",
    "\n",
    "sites = [input_ger, input_swe, input_esp]"
   ]
  },
  {
   "cell_type": "code",
   "execution_count": 3,
   "metadata": {},
   "outputs": [],
   "source": [
    "# Create masks\n",
    "start_train = '2010-01-01'\n",
    "end_train = '2015-12-31'\n",
    "train_mask = (input_ger['time'] >= start_train) & (input_ger['time'] <= end_train)"
   ]
  },
  {
   "cell_type": "code",
   "execution_count": 4,
   "metadata": {},
   "outputs": [],
   "source": [
    "# set up masks\n",
    "start_train = '2010-01-01'\n",
    "end_train = '2015-12-31'\n",
    "\n",
    "start_eval = '2011-01-01'\n",
    "end_eval = end_train\n",
    "\n",
    "# get train mask\n",
    "train_mask = (input_ger['time'] >= start_train) & (input_ger['time'] <= end_train)\n",
    "\n"
   ]
  },
  {
   "cell_type": "code",
   "execution_count": 5,
   "metadata": {},
   "outputs": [],
   "source": [
    "# Values for each variable\n",
    "\n",
    "cs = [210, 420, 840]\n",
    "b0 = [0.4, 0.6, 0.8]\n",
    "g = [0.2, 0.5, 0.8]\n",
    "a = [2, 4, 8]\n",
    "\n",
    "# Generate all combinations using itertools.product\n",
    "all_combinations = list(product(cs, b0, g, a))"
   ]
  },
  {
   "cell_type": "code",
   "execution_count": 6,
   "metadata": {},
   "outputs": [
    {
     "name": "stdout",
     "output_type": "stream",
     "text": [
      "Hi Im almost done :)\n",
      "Hi Im almost done :)\n",
      "Hi Im almost done :)\n"
     ]
    }
   ],
   "source": [
    "# Run and evaluate for all combinations\n",
    "swbm_param = 'b0'\n",
    "np.random.seed(42)\n",
    "\n",
    "# get data\n",
    "best_score =[]\n",
    "for site in sites:\n",
    "    max_corr_score = -np.inf\n",
    "    # get train data\n",
    "    input_swbm = site[train_mask]\n",
    "    input_swbm.reset_index(drop=True, inplace=True)\n",
    "\n",
    "    # get eval mask and eval input\n",
    "    eval_mask = (input_swbm['time'] >= start_eval) & (input_swbm['time'] <= end_eval)\n",
    "    input_eval = input_swbm[eval_mask]\n",
    "    input_eval.reset_index(drop=True, inplace=True)\n",
    "\n",
    "\n",
    "    for combination in all_combinations:\n",
    "        \n",
    "        # Run SWBM without seasonal variation\n",
    "        #break\n",
    "        const_swbm_params = {'c_s': combination[0], \n",
    "                            'b0': combination[1], \n",
    "                            'g': combination[2], \n",
    "                            'a': combination[3]}\n",
    "\n",
    "        # optimize sinus params for b0\n",
    "        init_values = [0.5, 2, 5, combination[1]]\n",
    "\n",
    "        res = minimize(opt_swbm_corr,\n",
    "                    np.asarray(init_values).flatten(),  # has to be 1D\n",
    "                    args=(input_swbm, const_swbm_params, swbm_param),\n",
    "                    options={\"maxiter\": 500, \"disp\": False})\n",
    "        opt_params_df = minimize_res2df(res, [swbm_param])\n",
    "        \n",
    "        # Set swbm const_swbm_params\n",
    "        params_seasonal = {'c_s': combination[0], \n",
    "                            'b0': combination[1], \n",
    "                            'g': combination[2], \n",
    "                            'a': combination[3]}\n",
    "\n",
    "        # Get sinus curve for current single parameter\n",
    "        params_seasonal[swbm_param] = seasonal_sinus(\n",
    "            len(input_swbm),\n",
    "            amplitude=opt_params_df.loc['amplitude', swbm_param],\n",
    "            freq=opt_params_df.loc['freq', swbm_param],\n",
    "            phase=opt_params_df.loc['phase', swbm_param],\n",
    "            center=opt_params_df.loc['center', swbm_param],\n",
    "            which=swbm_param\n",
    "        )\n",
    "\n",
    "        # Run SWBM with optimized seasonal b0\n",
    "        preds_seasonal = predict_ts(input_swbm, params_seasonal)\n",
    "        moists_seasonal, runoffs_seasonal, ets_seasonal, na_count = preds_seasonal\n",
    "\n",
    "        # cut data for evaluation\n",
    "        moists_eval = moists_seasonal[eval_mask]\n",
    "        runoffs_eval = runoffs_seasonal[eval_mask]\n",
    "        ets_eval = ets_seasonal[eval_mask]\n",
    "        \n",
    "        # calculate correlation\n",
    "        eval_df = eval_swbm(input_eval,\n",
    "                            {'sm': moists_eval,\n",
    "                            'ro': runoffs_eval,\n",
    "                            'le': ets_eval},\n",
    "                            swbm_param)\n",
    "        if eval_df['corr'].sum() > max_corr_score:\n",
    "            max_corr_score = eval_df['corr'].sum()\n",
    "            # save all results in dict \n",
    "            combination_dict = {\n",
    "                'Combination': combination,\n",
    "                'sum_corr': eval_df['corr'].sum(),\n",
    "                'SinusParameters': opt_params_df,\n",
    "                'eval_df': eval_df,\n",
    "                'na_count': na_count,\n",
    "                'na_sum': sum(na_count.values())\n",
    "            }\n",
    "    \n",
    "    best_score.append(combination_dict)\n",
    "    print('Hi Im almost done :)')"
   ]
  },
  {
   "cell_type": "code",
   "execution_count": 7,
   "metadata": {},
   "outputs": [],
   "source": [
    "def transform_data(input_data):\n",
    "    output_data = [\n",
    "        {'cs': input_data['Combination'][0],\n",
    "         'b0': input_data['Combination'][1],\n",
    "         'g': input_data['Combination'][2],\n",
    "         'a': input_data['Combination'][3]},\n",
    "        {'sum_corr': input_data['sum_corr']},\n",
    "        {'sm_cor': input_data['eval_df']['corr'][0],\n",
    "         'ro_cor': input_data['eval_df']['corr'][1],\n",
    "         'le_cor': input_data['eval_df']['corr'][2]},\n",
    "        {'amplitude': input_data['SinusParameters']['b0']['amplitude'],\n",
    "         'freq': input_data['SinusParameters']['b0']['freq'],\n",
    "         'phase': input_data['SinusParameters']['b0']['phase'],\n",
    "         'center': input_data['SinusParameters']['b0']['center']}\n",
    "    ]\n",
    "    return output_data"
   ]
  },
  {
   "cell_type": "code",
   "execution_count": 8,
   "metadata": {},
   "outputs": [],
   "source": [
    "ger_output = transform_data(best_score[0])\n",
    "swe_output = transform_data(best_score[1])\n",
    "esp_output = transform_data(best_score[2])"
   ]
  },
  {
   "cell_type": "code",
   "execution_count": 9,
   "metadata": {},
   "outputs": [],
   "source": [
    "with open('ger_output.json', 'w') as file:\n",
    "    json.dump(ger_output, file)\n",
    "\n",
    "with open('swe_output.json', 'w') as file:\n",
    "    json.dump(swe_output, file)\n",
    "\n",
    "with open('esp_output.json', 'w') as file:\n",
    "    json.dump(esp_output, file)"
   ]
  },
  {
   "cell_type": "code",
   "execution_count": 10,
   "metadata": {},
   "outputs": [],
   "source": [
    "with open('ger_output.json', 'r') as file:\n",
    "    ger_calib = json.load(file)\n",
    "\n",
    "with open('swe_output.json', 'r') as file:\n",
    "    swe_calib = json.load(file)\n",
    "\n",
    "with open('esp_output.json', 'r') as file:\n",
    "    esp_calib = json.load(file)"
   ]
  }
 ],
 "metadata": {
  "kernelspec": {
   "display_name": "esm",
   "language": "python",
   "name": "python3"
  },
  "language_info": {
   "codemirror_mode": {
    "name": "ipython",
    "version": 3
   },
   "file_extension": ".py",
   "mimetype": "text/x-python",
   "name": "python",
   "nbconvert_exporter": "python",
   "pygments_lexer": "ipython3",
   "version": "3.11.7"
  }
 },
 "nbformat": 4,
 "nbformat_minor": 2
}
