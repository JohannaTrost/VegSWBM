{
 "cells": [
  {
   "cell_type": "code",
   "execution_count": 1,
   "metadata": {},
   "outputs": [],
   "source": [
    "from itertools import product\n",
    "import matplotlib.pyplot as plt\n",
    "import seaborn as sns\n",
    "from scipy.optimize import minimize\n",
    "import json\n",
    "\n",
    "import os\n",
    "os.chdir('..')\n",
    "\n",
    "from src.swbm import *\n",
    "from src.plots import *\n",
    "from src.utils import *\n",
    "\n",
    "#%pwd"
   ]
  },
  {
   "cell_type": "code",
   "execution_count": 2,
   "metadata": {},
   "outputs": [],
   "source": [
    "# Load data and format\n",
    "input_swbm_ger = pd.read_csv('data/Data_swbm_Germany.csv')\n",
    "input_ger = prepro(input_swbm_ger)\n",
    "\n",
    "input_swbm_swe = pd.read_csv('data/Data_swbm_Sweden.csv')\n",
    "input_swe = prepro(input_swbm_swe)\n",
    "\n",
    "input_swbm_esp = pd.read_csv('data/Data_swbm_Spain.csv')\n",
    "input_esp = prepro(input_swbm_esp)\n",
    "\n",
    "sites = [input_ger, input_swe, input_esp]"
   ]
  },
  {
   "cell_type": "code",
   "execution_count": 3,
   "metadata": {},
   "outputs": [],
   "source": [
    "# Create masks\n",
    "start_train = '2010-01-01'\n",
    "end_train = '2015-12-31'\n",
    "train_mask = (input_ger['time'] >= start_train) & (input_ger['time'] <= end_train)"
   ]
  },
  {
   "cell_type": "code",
   "execution_count": 4,
   "metadata": {},
   "outputs": [],
   "source": [
    "# set up masks\n",
    "start_train = '2010-01-01'\n",
    "end_train = '2015-12-31'\n",
    "\n",
    "start_eval = '2011-01-01'\n",
    "end_eval = end_train\n",
    "\n",
    "# get train mask\n",
    "train_mask = (input_ger['time'] >= start_train) & (input_ger['time'] <= end_train)\n",
    "\n"
   ]
  },
  {
   "cell_type": "code",
   "execution_count": 5,
   "metadata": {},
   "outputs": [],
   "source": [
    "# Values for each variable\n",
    "\n",
    "cs = [210, 420, 840]\n",
    "b0 = [0.4, 0.6, 0.8]\n",
    "g = [0.2, 0.5, 0.8]\n",
    "a = [2, 4, 8]\n",
    "\n",
    "# Generate all combinations using itertools.product\n",
    "all_combinations = list(product(cs, b0, g, a))"
   ]
  },
  {
   "cell_type": "code",
   "execution_count": 7,
   "metadata": {},
   "outputs": [
    {
     "name": "stdout",
     "output_type": "stream",
     "text": [
      "Hi Im almost done :)\n",
      "Hi Im almost done :)\n",
      "Hi Im almost done :)\n"
     ]
    }
   ],
   "source": [
    "# Run and evaluate for all combinations\n",
    "swbm_param = 'b0'\n",
    "np.random.seed(42)\n",
    "\n",
    "# get data\n",
    "best_score =[]\n",
    "for site in sites:\n",
    "    max_corr_score = -np.inf\n",
    "    # get train data\n",
    "    input_swbm = site[train_mask]\n",
    "    input_swbm.reset_index(drop=True, inplace=True)\n",
    "\n",
    "    # get eval mask and eval input\n",
    "    eval_mask = (input_swbm['time'] >= start_eval) & (input_swbm['time'] <= end_eval)\n",
    "    input_eval = input_swbm[eval_mask]\n",
    "    input_eval.reset_index(drop=True, inplace=True)\n",
    "\n",
    "\n",
    "    for combination in all_combinations:\n",
    "        \n",
    "        # Run SWBM without seasonal variation\n",
    "        #break\n",
    "        const_swbm_params = {'c_s': combination[0], \n",
    "                            'b0': combination[1], \n",
    "                            'g': combination[2], \n",
    "                            'a': combination[3]}\n",
    "\n",
    "        # Run SWBM with optimized seasonal b0\n",
    "        preds = predict_ts(input_swbm, const_swbm_params)\n",
    "        moists, runoffs, ets, na_count = preds\n",
    "\n",
    "        # cut data for evaluation\n",
    "        moists_eval = moists[eval_mask]\n",
    "        runoffs_eval = runoffs[eval_mask]\n",
    "        ets_eval = ets[eval_mask]\n",
    "        \n",
    "        # calculate correlation\n",
    "        eval_df = eval_swbm(input_eval,\n",
    "                            {'sm': moists_eval,\n",
    "                            'ro': runoffs_eval,\n",
    "                            'le': ets_eval},\n",
    "                            swbm_param)\n",
    "        if eval_df['corr'].sum() > max_corr_score:\n",
    "            max_corr_score = eval_df['corr'].sum()\n",
    "            # save all results in dict \n",
    "            combination_dict = {\n",
    "                'Combination': combination,\n",
    "                'sum_corr': eval_df['corr'].sum(),\n",
    "                'eval_df': eval_df,\n",
    "                'na_count': na_count,\n",
    "                'na_sum': sum(na_count.values())\n",
    "            }\n",
    "    \n",
    "    best_score.append(combination_dict)\n",
    "    print('Hi Im almost done :)')"
   ]
  },
  {
   "cell_type": "code",
   "execution_count": 8,
   "metadata": {},
   "outputs": [],
   "source": [
    "def transform_data(input_data):\n",
    "    output_data = [\n",
    "        {'c_s': input_data['Combination'][0],\n",
    "         'b0': input_data['Combination'][1],\n",
    "         'g': input_data['Combination'][2],\n",
    "         'a': input_data['Combination'][3]},\n",
    "        {'sum_corr': input_data['sum_corr']},\n",
    "        {'sm_cor': input_data['eval_df']['corr'][0],\n",
    "         'ro_cor': input_data['eval_df']['corr'][1],\n",
    "         'le_cor': input_data['eval_df']['corr'][2]},\n",
    "    ]\n",
    "    return output_data"
   ]
  },
  {
   "cell_type": "code",
   "execution_count": 9,
   "metadata": {},
   "outputs": [],
   "source": [
    "ger_noneseasonal = transform_data(best_score[0])\n",
    "swe_noneseasonal = transform_data(best_score[1])\n",
    "esp_noneseasonal = transform_data(best_score[2])"
   ]
  },
  {
   "cell_type": "code",
   "execution_count": 10,
   "metadata": {},
   "outputs": [],
   "source": [
    "with open('results/ger_noneseasonal.json', 'w') as file:\n",
    "    json.dump(ger_noneseasonal, file)\n",
    "\n",
    "with open('results/swe_noneseasonal.json', 'w') as file:\n",
    "    json.dump(swe_noneseasonal, file)\n",
    "\n",
    "with open('results/esp_noneseasonal.json', 'w') as file:\n",
    "    json.dump(esp_noneseasonal, file)"
   ]
  },
  {
   "cell_type": "code",
   "execution_count": 11,
   "metadata": {},
   "outputs": [],
   "source": [
    "# Load data and format\n",
    "input_swbm_ger = pd.read_csv('data/Data_swbm_Germany.csv')\n",
    "input_ger = prepro(input_swbm_ger)\n",
    "\n",
    "input_swbm_swe = pd.read_csv('data/Data_swbm_Sweden.csv')\n",
    "input_swe = prepro(input_swbm_swe)\n",
    "\n",
    "input_swbm_esp = pd.read_csv('data/Data_swbm_Spain.csv')\n",
    "input_esp = prepro(input_swbm_esp)\n",
    "\n",
    "sites = [input_ger, input_swe, input_esp]"
   ]
  },
  {
   "cell_type": "code",
   "execution_count": 12,
   "metadata": {},
   "outputs": [],
   "source": [
    "calibs = [ger_noneseasonal, swe_noneseasonal, esp_noneseasonal]"
   ]
  },
  {
   "cell_type": "code",
   "execution_count": 13,
   "metadata": {},
   "outputs": [],
   "source": [
    "# Create test masks for test\n",
    "start_test = '2015-01-01'\n",
    "end_test = '2020-12-31'\n",
    "test_mask = (input_ger['time'] >= start_test) & (input_ger['time'] <= end_test)\n",
    "\n",
    "start_eval = '2016-01-01'\n",
    "end_eval = end_test"
   ]
  },
  {
   "cell_type": "code",
   "execution_count": 14,
   "metadata": {},
   "outputs": [],
   "source": [
    "# test SWBM for all sites\n",
    "swbm_param = 'b0'\n",
    "evals_test = []\n",
    "model_results = []\n",
    "for site, calib in zip(sites, calibs):\n",
    "    #break\n",
    "    # get test data\n",
    "    input_swbm = site[test_mask]\n",
    "    input_swbm.reset_index(drop=True, inplace=True)\n",
    "\n",
    "    # get eval mask and eval input\n",
    "    eval_mask = (input_swbm['time'] >= start_eval) & (input_swbm['time'] <= end_eval)\n",
    "    input_eval = input_swbm[eval_mask]\n",
    "    input_eval.reset_index(drop=True, inplace=True)\n",
    "\n",
    "    const_swbm_params = calib[0].copy()\n",
    "    params = calib[0].copy()\n",
    "\n",
    "    # Run SWBM with optimized seasonal b0\n",
    "    preds = predict_ts(input_swbm, params)\n",
    "    moists, runoffs, ets, na_count = preds\n",
    "\n",
    "    # Save data in dataframe\n",
    "    model_result = input_swbm.copy()\n",
    "    model_result = pd.concat([model_result, pd.DataFrame({'moists': moists,\n",
    "                                  'runoffs': runoffs,\n",
    "                                  'ets': ets}, index=model_result.index)], axis=1)\n",
    "\n",
    "    # cut data for evaluation\n",
    "    moists_eval = moists[eval_mask]\n",
    "    runoffs_eval = runoffs[eval_mask]\n",
    "    ets_eval = ets[eval_mask]\n",
    "    \n",
    "    # calculate correlation\n",
    "    eval_df = eval_swbm(input_eval,\n",
    "                        {'sm': moists_eval,\n",
    "                        'ro': runoffs_eval,\n",
    "                        'le': ets_eval},\n",
    "                        swbm_param)\n",
    "    \n",
    "    result_test = {\n",
    "                'Combination': calib[0],\n",
    "                'sum_corr': eval_df['corr'].sum(),\n",
    "                'eval_df': eval_df,\n",
    "            }\n",
    "\n",
    "    evals_test.append(result_test)\n",
    "    model_results.append(model_result)"
   ]
  },
  {
   "cell_type": "code",
   "execution_count": 15,
   "metadata": {},
   "outputs": [],
   "source": [
    "# Transform function for evaluation\n",
    "def transform_evals(input_data):\n",
    "    output_data = [\n",
    "        input_data['Combination'],\n",
    "        {'sum_corr': input_data['sum_corr']},\n",
    "        {'sm_corr': input_data['eval_df']['corr'][0],\n",
    "         'ro_corr': input_data['eval_df']['corr'][1],\n",
    "         'le_corr': input_data['eval_df']['corr'][2]}\n",
    "    ]\n",
    "    return output_data"
   ]
  },
  {
   "cell_type": "code",
   "execution_count": 16,
   "metadata": {},
   "outputs": [],
   "source": [
    "# Transform evaluation\n",
    "ger_nonseasonal_test = transform_evals(evals_test[0])\n",
    "swe_nonseasonal_test = transform_evals(evals_test[0])\n",
    "esp_nonseasonal_test = transform_evals(evals_test[0])"
   ]
  },
  {
   "cell_type": "code",
   "execution_count": 17,
   "metadata": {},
   "outputs": [],
   "source": [
    "# Save evaluations\n",
    "with open('results/ger_nonseasonal_test.json', 'w') as file:\n",
    "    json.dump(ger_nonseasonal_test, file)\n",
    "\n",
    "with open('results/swe_nonseasonal_test.json', 'w') as file:\n",
    "    json.dump(swe_nonseasonal_test, file)\n",
    "\n",
    "with open('results/esp_nonseasonal_test.json', 'w') as file:\n",
    "    json.dump(esp_nonseasonal_test, file)"
   ]
  },
  {
   "cell_type": "code",
   "execution_count": 18,
   "metadata": {},
   "outputs": [],
   "source": [
    "# Save model predictions\n",
    "model_results[0].to_csv('data/output/ger_nonseasonal_test.csv', index=False)\n",
    "model_results[1].to_csv('data/output/swe_nonseasonal_test.csv', index=False)\n",
    "model_results[2].to_csv('data/output/esp_nonseasonal_test.csv', index=False)"
   ]
  }
 ],
 "metadata": {
  "kernelspec": {
   "display_name": "esm",
   "language": "python",
   "name": "python3"
  },
  "language_info": {
   "codemirror_mode": {
    "name": "ipython",
    "version": 3
   },
   "file_extension": ".py",
   "mimetype": "text/x-python",
   "name": "python",
   "nbconvert_exporter": "python",
   "pygments_lexer": "ipython3",
   "version": "3.11.7"
  }
 },
 "nbformat": 4,
 "nbformat_minor": 2
}
