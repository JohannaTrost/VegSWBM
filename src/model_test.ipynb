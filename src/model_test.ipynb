{
 "cells": [
  {
   "cell_type": "code",
   "execution_count": 3,
   "metadata": {},
   "outputs": [],
   "source": [
    "import matplotlib.pyplot as plt\n",
    "import seaborn as sns\n",
    "import json\n",
    "\n",
    "import os\n",
    "os.chdir('..')\n",
    "\n",
    "\n",
    "from src.swbm import *\n",
    "from src.plots import *\n",
    "from src.utils import *"
   ]
  },
  {
   "cell_type": "code",
   "execution_count": 4,
   "metadata": {},
   "outputs": [
    {
     "data": {
      "text/plain": [
       "'c:\\\\Users\\\\motze\\\\OneDrive\\\\Master\\\\ESM\\\\VegSWBM'"
      ]
     },
     "execution_count": 4,
     "metadata": {},
     "output_type": "execute_result"
    }
   ],
   "source": [
    "%pwd\n"
   ]
  },
  {
   "cell_type": "code",
   "execution_count": 5,
   "metadata": {},
   "outputs": [],
   "source": [
    "# Load data and format\n",
    "input_swbm_ger = pd.read_csv('data/Data_swbm_Germany.csv')\n",
    "input_ger = prepro(input_swbm_ger)\n",
    "\n",
    "input_swbm_swe = pd.read_csv('data/Data_swbm_Sweden.csv')\n",
    "input_swe = prepro(input_swbm_swe)\n",
    "\n",
    "input_swbm_esp = pd.read_csv('data/Data_swbm_Spain.csv')\n",
    "input_esp = prepro(input_swbm_esp)\n",
    "\n",
    "sites = [input_ger, input_swe, input_esp]"
   ]
  },
  {
   "cell_type": "code",
   "execution_count": 9,
   "metadata": {},
   "outputs": [],
   "source": [
    "# Load best parameters\n",
    "with open('ger_output.json', 'r') as file:\n",
    "    ger_calib = json.load(file)\n",
    "\n",
    "with open('swe_output.json', 'r') as file:\n",
    "    swe_calib = json.load(file)\n",
    "\n",
    "with open('esp_output.json', 'r') as file:\n",
    "    esp_calib = json.load(file)\n",
    "\n",
    "init_params = [ger_calib[0], \n",
    "               swe_calib[0], \n",
    "               esp_calib[0]]\n",
    "\n",
    "init_sinus = [ger_calib[3], \n",
    "               swe_calib[3], \n",
    "               esp_calib[3]]"
   ]
  },
  {
   "cell_type": "code",
   "execution_count": null,
   "metadata": {},
   "outputs": [],
   "source": [
    "# Create test masks\n",
    "start_test = '2015-01-01'\n",
    "end_test = '2020-12-31'\n",
    "train_mask = (input_ger['time'] >= start_test) & (input_ger['time'] <= end_test)"
   ]
  }
 ],
 "metadata": {
  "kernelspec": {
   "display_name": "esm",
   "language": "python",
   "name": "python3"
  },
  "language_info": {
   "codemirror_mode": {
    "name": "ipython",
    "version": 3
   },
   "file_extension": ".py",
   "mimetype": "text/x-python",
   "name": "python",
   "nbconvert_exporter": "python",
   "pygments_lexer": "ipython3",
   "version": "3.11.7"
  }
 },
 "nbformat": 4,
 "nbformat_minor": 2
}
