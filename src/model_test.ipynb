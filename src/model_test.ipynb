{
 "cells": [
  {
   "cell_type": "code",
   "execution_count": 1,
   "metadata": {},
   "outputs": [],
   "source": [
    "import matplotlib.pyplot as plt\n",
    "import seaborn as sns\n",
    "import json\n",
    "\n",
    "import os\n",
    "os.chdir('..')\n",
    "\n",
    "\n",
    "from src.swbm import *\n",
    "from src.plots import *\n",
    "from src.utils import *"
   ]
  },
  {
   "cell_type": "code",
   "execution_count": 2,
   "metadata": {},
   "outputs": [],
   "source": [
    "# Load data and format\n",
    "input_swbm_ger = pd.read_csv('data/Data_swbm_Germany.csv')\n",
    "input_ger = prepro(input_swbm_ger)\n",
    "\n",
    "input_swbm_swe = pd.read_csv('data/Data_swbm_Sweden.csv')\n",
    "input_swe = prepro(input_swbm_swe)\n",
    "\n",
    "input_swbm_esp = pd.read_csv('data/Data_swbm_Spain.csv')\n",
    "input_esp = prepro(input_swbm_esp)\n",
    "\n",
    "sites = [input_ger, input_swe, input_esp]"
   ]
  },
  {
   "cell_type": "code",
   "execution_count": 3,
   "metadata": {},
   "outputs": [],
   "source": [
    "# Load best parameters\n",
    "with open('results/ger_output.json', 'r') as file:\n",
    "    ger_calib = json.load(file)\n",
    "\n",
    "with open('results/swe_output.json', 'r') as file:\n",
    "    swe_calib = json.load(file)\n",
    "\n",
    "with open('results/esp_output.json', 'r') as file:\n",
    "    esp_calib = json.load(file)\n",
    "\n",
    "calibs = [ger_calib, swe_calib, esp_calib]\n",
    "countries = ['Germany', 'Sweden', 'Spain']"
   ]
  },
  {
   "cell_type": "code",
   "execution_count": 4,
   "metadata": {},
   "outputs": [],
   "source": [
    "# Create test masks\n",
    "start_test = '2013-01-01'\n",
    "end_test = '2018-12-31'\n",
    "test_mask = (input_ger['time'] >= start_test) & (input_ger['time'] <= end_test)\n",
    "\n",
    "start_eval = '2014-01-01'\n",
    "end_eval = end_test"
   ]
  },
  {
   "cell_type": "code",
   "execution_count": 5,
   "metadata": {},
   "outputs": [],
   "source": [
    "# test SWBM for all sites\n",
    "swbm_param = 'b0'\n",
    "evals_test = []\n",
    "model_results = []\n",
    "for site, calib, country in zip(sites, calibs, countries):\n",
    "    # get test data\n",
    "    input_swbm = site[test_mask]\n",
    "    input_swbm.reset_index(drop=True, inplace=True)\n",
    "\n",
    "    # get eval mask and eval input\n",
    "    eval_mask = (input_swbm['time'] >= start_eval) & (input_swbm['time'] <= end_eval)\n",
    "    input_eval = input_swbm[eval_mask]\n",
    "    input_eval.reset_index(drop=True, inplace=True)\n",
    "\n",
    "    const_swbm_params = calib[0].copy()\n",
    "    params_seasonal = calib[0].copy()\n",
    "\n",
    "    # Get sinus curve for current single parameter\n",
    "    if country == 'Sweden':\n",
    "        params_seasonal[swbm_param] = seasonal_sinus(\n",
    "            len(input_swbm),\n",
    "            amplitude=calib[3]['amplitude'] * 200,\n",
    "            freq=calib[3]['freq'],\n",
    "            phase=calib[3]['phase'],\n",
    "            center=calib[3]['center'] * 200,\n",
    "            which=swbm_param)\n",
    "        params_seasonal['c_s'] = 420\n",
    "    else:\n",
    "        params_seasonal[swbm_param] = seasonal_sinus(\n",
    "            len(input_swbm),\n",
    "            amplitude=calib[3]['amplitude'],\n",
    "            freq=calib[3]['freq'],\n",
    "            phase=calib[3]['phase'],\n",
    "            center=calib[3]['center'],\n",
    "            which=swbm_param) \n",
    "    \n",
    "    # Run SWBM with optimized seasonal b0\n",
    "    preds_seasonal = predict_ts(input_swbm, params_seasonal)\n",
    "    moists_seasonal, runoffs_seasonal, ets_seasonal, na_count = preds_seasonal\n",
    "\n",
    "    # Save data in dataframe\n",
    "    model_result = input_swbm.copy()\n",
    "    model_result = pd.concat([model_result, pd.DataFrame({'moists_seasonal': moists_seasonal,\n",
    "                                  'runoffs_seasonal': runoffs_seasonal,\n",
    "                                  'ets_seasonal': ets_seasonal}, index=model_result.index)], axis=1)\n",
    "\n",
    "    # cut data for evaluation\n",
    "    moists_eval = moists_seasonal[eval_mask]\n",
    "    runoffs_eval = runoffs_seasonal[eval_mask]\n",
    "    ets_eval = ets_seasonal[eval_mask]\n",
    "    \n",
    "    # calculate correlation\n",
    "    eval_df = eval_swbm(input_eval,\n",
    "                        {'sm': moists_eval,\n",
    "                        'ro': runoffs_eval,\n",
    "                        'le': ets_eval},\n",
    "                        swbm_param)\n",
    "    \n",
    "    result_test = {\n",
    "                'Combination': calib[0],\n",
    "                'sum_corr': eval_df['corr'].sum(),\n",
    "                'SinusParameters': calib[3],\n",
    "                'eval_df': eval_df,\n",
    "            }\n",
    "\n",
    "    evals_test.append(result_test)\n",
    "    model_results.append(model_result)"
   ]
  },
  {
   "cell_type": "code",
   "execution_count": 6,
   "metadata": {},
   "outputs": [
    {
     "data": {
      "text/plain": [
       "[{'Combination': {'c_s': 420, 'b0': 0.4, 'g': 0.2, 'a': 8},\n",
       "  'sum_corr': 2.525792435676959,\n",
       "  'SinusParameters': {'amplitude': 0.15773671537646436,\n",
       "   'freq': 1.991013217918756,\n",
       "   'phase': 4.695383716350022,\n",
       "   'center': 0.26580671413344364},\n",
       "  'eval_df':   parameter kind      corr           pval\n",
       "  0        b0   sm  0.903367   0.000000e+00\n",
       "  1        b0   ro  0.696029  1.034909e-264\n",
       "  2        b0   le  0.926397   0.000000e+00},\n",
       " {'Combination': {'c_s': 840, 'b0': 0.4, 'g': 0.5, 'a': 4},\n",
       "  'sum_corr': 1.2218900864420017,\n",
       "  'SinusParameters': {'amplitude': 0.0005993492667837831,\n",
       "   'freq': 1.9982300430160138,\n",
       "   'phase': 4.113755963808566,\n",
       "   'center': 0.0008309403292962054},\n",
       "  'eval_df':   parameter kind      corr          pval\n",
       "  0        b0   sm  0.226403  1.178010e-22\n",
       "  1        b0   ro  0.072256  2.004698e-03\n",
       "  2        b0   le  0.923231  0.000000e+00},\n",
       " {'Combination': {'c_s': 210, 'b0': 0.4, 'g': 0.8, 'a': 8},\n",
       "  'sum_corr': 2.530976745071012,\n",
       "  'SinusParameters': {'amplitude': 0.8074171127458143,\n",
       "   'freq': 1.997325128303508,\n",
       "   'phase': 5.408490070335166,\n",
       "   'center': 0.25426184697394066},\n",
       "  'eval_df':   parameter kind      corr           pval\n",
       "  0        b0   sm  0.907322   0.000000e+00\n",
       "  1        b0   ro  0.697925  9.495184e-267\n",
       "  2        b0   le  0.925730   0.000000e+00}]"
      ]
     },
     "execution_count": 6,
     "metadata": {},
     "output_type": "execute_result"
    }
   ],
   "source": [
    "evals_test"
   ]
  },
  {
   "cell_type": "code",
   "execution_count": 7,
   "metadata": {},
   "outputs": [],
   "source": [
    "# Transform evaluation\n",
    "ger_test_evals = transform_evals(evals_test[0])\n",
    "swe_test_evals = transform_evals(evals_test[1])\n",
    "esp_test_evals = transform_evals(evals_test[2])"
   ]
  },
  {
   "cell_type": "code",
   "execution_count": 8,
   "metadata": {},
   "outputs": [],
   "source": [
    "# Save evaluations\n",
    "with open('results/ger_test_eval.json', 'w') as file:\n",
    "    json.dump(ger_test_evals, file)\n",
    "\n",
    "with open('results/swe_test_eval.json', 'w') as file:\n",
    "    json.dump(swe_test_evals, file)\n",
    "\n",
    "with open('results/esp_test_eval.json', 'w') as file:\n",
    "    json.dump(esp_test_evals, file)"
   ]
  },
  {
   "cell_type": "code",
   "execution_count": 9,
   "metadata": {},
   "outputs": [],
   "source": [
    "# Save model predictions\n",
    "model_results[0].to_csv('data/output/ger_model_test.csv', index=False)\n",
    "model_results[1].to_csv('data/output/swe_model_test.csv', index=False)\n",
    "model_results[2].to_csv('data/output/esp_model_test.csv', index=False)"
   ]
  }
 ],
 "metadata": {
  "kernelspec": {
   "display_name": "esm",
   "language": "python",
   "name": "python3"
  },
  "language_info": {
   "codemirror_mode": {
    "name": "ipython",
    "version": 3
   },
   "file_extension": ".py",
   "mimetype": "text/x-python",
   "name": "python",
   "nbconvert_exporter": "python",
   "pygments_lexer": "ipython3",
   "version": "3.11.4"
  }
 },
 "nbformat": 4,
 "nbformat_minor": 2
}
