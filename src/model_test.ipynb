{
 "cells": [
  {
   "cell_type": "code",
   "execution_count": 21,
   "metadata": {},
   "outputs": [],
   "source": [
    "import matplotlib.pyplot as plt\n",
    "import seaborn as sns\n",
    "import json\n",
    "\n",
    "import os\n",
    "#os.chdir('..')\n",
    "\n",
    "\n",
    "from src.swbm import *\n",
    "from src.plots import *\n",
    "from src.utils import *"
   ]
  },
  {
   "cell_type": "code",
   "execution_count": 22,
   "metadata": {},
   "outputs": [
    {
     "data": {
      "text/plain": [
       "'c:\\\\Users\\\\motze\\\\OneDrive\\\\Master\\\\ESM\\\\VegSWBM'"
      ]
     },
     "execution_count": 22,
     "metadata": {},
     "output_type": "execute_result"
    }
   ],
   "source": [
    "%pwd\n"
   ]
  },
  {
   "cell_type": "code",
   "execution_count": 38,
   "metadata": {},
   "outputs": [],
   "source": [
    "# Load data and format\n",
    "input_swbm_ger = pd.read_csv('data/Data_swbm_Germany.csv')\n",
    "input_ger = prepro(input_swbm_ger)\n",
    "\n",
    "input_swbm_swe = pd.read_csv('data/Data_swbm_Sweden.csv')\n",
    "input_swe = prepro(input_swbm_swe)\n",
    "\n",
    "input_swbm_esp = pd.read_csv('data/Data_swbm_Spain.csv')\n",
    "input_esp = prepro(input_swbm_esp)\n",
    "\n",
    "sites = [input_ger, input_swe, input_esp]"
   ]
  },
  {
   "cell_type": "code",
   "execution_count": 39,
   "metadata": {},
   "outputs": [],
   "source": [
    "# Load best parameters\n",
    "with open('results/ger_output.json', 'r') as file:\n",
    "    ger_calib = json.load(file)\n",
    "\n",
    "with open('results/swe_output.json', 'r') as file:\n",
    "    swe_calib = json.load(file)\n",
    "\n",
    "with open('results/esp_output.json', 'r') as file:\n",
    "    esp_calib = json.load(file)\n",
    "\n",
    "calibs = [ger_calib, swe_calib, esp_calib]"
   ]
  },
  {
   "cell_type": "code",
   "execution_count": 40,
   "metadata": {},
   "outputs": [],
   "source": [
    "# Create test masks\n",
    "start_test = '2015-01-01'\n",
    "end_test = '2020-12-31'\n",
    "test_mask = (input_ger['time'] >= start_test) & (input_ger['time'] <= end_test)\n",
    "\n",
    "start_eval = '2016-01-01'\n",
    "end_eval = end_test"
   ]
  },
  {
   "cell_type": "code",
   "execution_count": 45,
   "metadata": {},
   "outputs": [],
   "source": [
    "# test SWBM for all sites\n",
    "swbm_param = 'b0'\n",
    "evals_test = []\n",
    "model_results = []\n",
    "for site, calib in zip(sites, calibs):\n",
    "    #break\n",
    "    # get test data\n",
    "    input_swbm = site[test_mask]\n",
    "    input_swbm.reset_index(drop=True, inplace=True)\n",
    "\n",
    "    # get eval mask and eval input\n",
    "    eval_mask = (input_swbm['time'] >= start_eval) & (input_swbm['time'] <= end_eval)\n",
    "    input_eval = input_swbm[eval_mask]\n",
    "    input_eval.reset_index(drop=True, inplace=True)\n",
    "\n",
    "    const_swbm_params = calib[0].copy()\n",
    "    params_seasonal = calib[0].copy()\n",
    "\n",
    "    # Get sinus curve for current single parameter\n",
    "    params_seasonal[swbm_param] = seasonal_sinus(\n",
    "        len(input_swbm),\n",
    "        amplitude=calib[3]['amplitude'],\n",
    "        freq=calib[3]['freq'],\n",
    "        phase=calib[3]['phase'],\n",
    "        center=calib[3]['center'],\n",
    "        which=swbm_param)\n",
    "\n",
    "    # Run SWBM with optimized seasonal b0\n",
    "    preds_seasonal = predict_ts(input_swbm, params_seasonal)\n",
    "    moists_seasonal, runoffs_seasonal, ets_seasonal, na_count = preds_seasonal\n",
    "\n",
    "    # Save data in dataframe\n",
    "    model_result = input_swbm.copy()\n",
    "    model_result = pd.concat([model_result, pd.DataFrame({'moists_seasonal': moists_seasonal,\n",
    "                                  'runoffs_seasonal': runoffs_seasonal,\n",
    "                                  'ets_seasonal': ets_seasonal}, index=model_result.index)], axis=1)\n",
    "\n",
    "    # cut data for evaluation\n",
    "    moists_eval = moists_seasonal[eval_mask]\n",
    "    runoffs_eval = runoffs_seasonal[eval_mask]\n",
    "    ets_eval = ets_seasonal[eval_mask]\n",
    "    \n",
    "    # calculate correlation\n",
    "    eval_df = eval_swbm(input_eval,\n",
    "                        {'sm': moists_eval,\n",
    "                        'ro': runoffs_eval,\n",
    "                        'le': ets_eval},\n",
    "                        swbm_param)\n",
    "    \n",
    "    result_test = {\n",
    "                'Combination': calib[0],\n",
    "                'sum_corr': eval_df['corr'].sum(),\n",
    "                'SinusParameters': calib[3],\n",
    "                'eval_df': eval_df,\n",
    "            }\n",
    "\n",
    "    evals_test.append(result_test)\n",
    "    model_results.append(model_result)"
   ]
  },
  {
   "cell_type": "code",
   "execution_count": 52,
   "metadata": {},
   "outputs": [],
   "source": [
    "# Transform function for evaluation\n",
    "def transform_evals(input_data):\n",
    "    output_data = [\n",
    "        input_data['Combination'],\n",
    "        {'sum_corr': input_data['sum_corr']},\n",
    "        {'sm_corr': input_data['eval_df']['corr'][0],\n",
    "         'ro_corr': input_data['eval_df']['corr'][1],\n",
    "         'le_corr': input_data['eval_df']['corr'][2]},\n",
    "        input_data['SinusParameters']\n",
    "    ]\n",
    "    return output_data"
   ]
  },
  {
   "cell_type": "code",
   "execution_count": 56,
   "metadata": {},
   "outputs": [],
   "source": [
    "# Transform evaluation\n",
    "ger_test_evals = transform_evals(evals_test[0])\n",
    "swe_test_evals = transform_evals(evals_test[0])\n",
    "esp_test_evals = transform_evals(evals_test[0])"
   ]
  },
  {
   "cell_type": "code",
   "execution_count": 57,
   "metadata": {},
   "outputs": [],
   "source": [
    "# Save evaluations\n",
    "with open('results/ger_test_eval.json', 'w') as file:\n",
    "    json.dump(ger_test_evals, file)\n",
    "\n",
    "with open('results/swe_test_eval.json', 'w') as file:\n",
    "    json.dump(swe_test_evals, file)\n",
    "\n",
    "with open('results/esp_test_eval.json', 'w') as file:\n",
    "    json.dump(esp_test_evals, file)"
   ]
  },
  {
   "cell_type": "code",
   "execution_count": 58,
   "metadata": {},
   "outputs": [],
   "source": [
    "# Save model predictions\n",
    "model_results[0].to_csv('results/ger_model_test.csv', index=False)\n",
    "model_results[1].to_csv('results/swe_model_test.csv', index=False)\n",
    "model_results[2].to_csv('results/esp_model_test.csv', index=False)"
   ]
  }
 ],
 "metadata": {
  "kernelspec": {
   "display_name": "esm",
   "language": "python",
   "name": "python3"
  },
  "language_info": {
   "codemirror_mode": {
    "name": "ipython",
    "version": 3
   },
   "file_extension": ".py",
   "mimetype": "text/x-python",
   "name": "python",
   "nbconvert_exporter": "python",
   "pygments_lexer": "ipython3",
   "version": "3.11.7"
  }
 },
 "nbformat": 4,
 "nbformat_minor": 2
}
