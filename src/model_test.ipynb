{
 "cells": [
  {
   "cell_type": "code",
   "execution_count": 3,
   "metadata": {},
   "outputs": [],
   "source": [
    "import matplotlib.pyplot as plt\n",
    "import seaborn as sns\n",
    "import json\n",
    "\n",
    "import os\n",
    "os.chdir('..')\n",
    "\n",
    "\n",
    "from src.swbm import *\n",
    "from src.plots import *\n",
    "from src.utils import *"
   ]
  },
  {
   "cell_type": "code",
   "execution_count": 4,
   "metadata": {},
   "outputs": [
    {
     "data": {
      "text/plain": [
       "'c:\\\\Users\\\\motze\\\\OneDrive\\\\Master\\\\ESM\\\\VegSWBM'"
      ]
     },
     "execution_count": 4,
     "metadata": {},
     "output_type": "execute_result"
    }
   ],
   "source": [
    "%pwd\n"
   ]
  },
  {
   "cell_type": "code",
   "execution_count": 5,
   "metadata": {},
   "outputs": [],
   "source": [
    "# Load data and format\n",
    "input_swbm_ger = pd.read_csv('data/Data_swbm_Germany.csv')\n",
    "input_ger = prepro(input_swbm_ger)\n",
    "\n",
    "input_swbm_swe = pd.read_csv('data/Data_swbm_Sweden.csv')\n",
    "input_swe = prepro(input_swbm_swe)\n",
    "\n",
    "input_swbm_esp = pd.read_csv('data/Data_swbm_Spain.csv')\n",
    "input_esp = prepro(input_swbm_esp)\n",
    "\n",
    "sites = [input_ger, input_swe, input_esp]"
   ]
  },
  {
   "cell_type": "code",
   "execution_count": 6,
   "metadata": {},
   "outputs": [],
   "source": [
    "# Load best parameters\n",
    "with open('results/ger_output.json', 'r') as file:\n",
    "    ger_calib = json.load(file)\n",
    "\n",
    "with open('results/swe_output.json', 'r') as file:\n",
    "    swe_calib = json.load(file)\n",
    "\n",
    "with open('results/esp_output.json', 'r') as file:\n",
    "    esp_calib = json.load(file)\n",
    "\n",
    "calibs = [ger_calib, swe_calib, esp_calib]"
   ]
  },
  {
   "cell_type": "code",
   "execution_count": 8,
   "metadata": {},
   "outputs": [],
   "source": [
    "# Create test masks\n",
    "start_test = '2015-01-01'\n",
    "end_test = '2020-12-31'\n",
    "test_mask = (input_ger['time'] >= start_test) & (input_ger['time'] <= end_test)\n",
    "\n",
    "start_eval = '2016-01-01'\n",
    "end_eval = end_test"
   ]
  },
  {
   "cell_type": "code",
   "execution_count": 9,
   "metadata": {},
   "outputs": [],
   "source": [
    "# test SWBM for all sites\n",
    "swbm_param = 'b0'\n",
    "evals_test = []\n",
    "model_results = []\n",
    "for site, calib in zip(sites, calibs):\n",
    "    #break\n",
    "    # get test data\n",
    "    input_swbm = site[test_mask]\n",
    "    input_swbm.reset_index(drop=True, inplace=True)\n",
    "\n",
    "    # get eval mask and eval input\n",
    "    eval_mask = (input_swbm['time'] >= start_eval) & (input_swbm['time'] <= end_eval)\n",
    "    input_eval = input_swbm[eval_mask]\n",
    "    input_eval.reset_index(drop=True, inplace=True)\n",
    "\n",
    "    const_swbm_params = calib[0].copy()\n",
    "    params_seasonal = calib[0].copy()\n",
    "\n",
    "    # Get sinus curve for current single parameter\n",
    "    params_seasonal[swbm_param] = seasonal_sinus(\n",
    "        len(input_swbm),\n",
    "        amplitude=calib[3]['amplitude'],\n",
    "        freq=calib[3]['freq'],\n",
    "        phase=calib[3]['phase'],\n",
    "        center=calib[3]['center'],\n",
    "        which=swbm_param)\n",
    "\n",
    "    # Run SWBM with optimized seasonal b0\n",
    "    preds_seasonal = predict_ts(input_swbm, params_seasonal)\n",
    "    moists_seasonal, runoffs_seasonal, ets_seasonal, na_count = preds_seasonal\n",
    "\n",
    "    # Save data in dataframe\n",
    "    model_result = input_swbm.copy()\n",
    "    model_result = pd.concat([model_result, pd.DataFrame({'moists_seasonal': moists_seasonal,\n",
    "                                  'runoffs_seasonal': runoffs_seasonal,\n",
    "                                  'ets_seasonal': ets_seasonal}, index=model_result.index)], axis=1)\n",
    "\n",
    "    # cut data for evaluation\n",
    "    moists_eval = moists_seasonal[eval_mask]\n",
    "    runoffs_eval = runoffs_seasonal[eval_mask]\n",
    "    ets_eval = ets_seasonal[eval_mask]\n",
    "    \n",
    "    # calculate correlation\n",
    "    eval_df = eval_swbm(input_eval,\n",
    "                        {'sm': moists_eval,\n",
    "                        'ro': runoffs_eval,\n",
    "                        'le': ets_eval},\n",
    "                        swbm_param)\n",
    "    \n",
    "    result_test = {\n",
    "                'Combination': calib[0],\n",
    "                'sum_corr': eval_df['corr'].sum(),\n",
    "                'SinusParameters': calib[3],\n",
    "                'eval_df': eval_df,\n",
    "            }\n",
    "\n",
    "    evals_test.append(result_test)\n",
    "    model_results.append(model_result)"
   ]
  },
  {
   "cell_type": "code",
   "execution_count": 10,
   "metadata": {},
   "outputs": [
    {
     "data": {
      "text/plain": [
       "[{'Combination': {'c_s': 210, 'b0': 0.4, 'g': 0.2, 'a': 4},\n",
       "  'sum_corr': 2.514752047418406,\n",
       "  'SinusParameters': {'amplitude': 0.1492778497316043,\n",
       "   'freq': 1.971598094574026,\n",
       "   'phase': 4.50728358299142,\n",
       "   'center': 0.39101391650570866},\n",
       "  'eval_df':   parameter kind      corr           pval\n",
       "  0        b0   sm  0.900114   0.000000e+00\n",
       "  1        b0   ro  0.689366  2.336686e-155\n",
       "  2        b0   le  0.925272   0.000000e+00},\n",
       " {'Combination': {'c_s': 420, 'b0': 0.4, 'g': 0.2, 'a': 8},\n",
       "  'sum_corr': 1.3360927120803074,\n",
       "  'SinusParameters': {'amplitude': 1.5079919848812897,\n",
       "   'freq': 1.9945868187040925,\n",
       "   'phase': 4.537357776131512,\n",
       "   'center': -0.5272264925923769},\n",
       "  'eval_df':   parameter kind      corr           pval\n",
       "  0        b0   sm  0.623121  6.788451e-119\n",
       "  1        b0   ro  0.203081   1.150016e-11\n",
       "  2        b0   le  0.509891   1.403256e-73},\n",
       " {'Combination': {'c_s': 210, 'b0': 0.4, 'g': 0.8, 'a': 8},\n",
       "  'sum_corr': 2.575536373333679,\n",
       "  'SinusParameters': {'amplitude': 0.21582462242101322,\n",
       "   'freq': 2.0304927039826746,\n",
       "   'phase': 5.804241716044093,\n",
       "   'center': 0.3737910660855631},\n",
       "  'eval_df':   parameter kind      corr           pval\n",
       "  0        b0   sm  0.934089   0.000000e+00\n",
       "  1        b0   ro  0.747192  2.486170e-196\n",
       "  2        b0   le  0.894255   0.000000e+00}]"
      ]
     },
     "execution_count": 10,
     "metadata": {},
     "output_type": "execute_result"
    }
   ],
   "source": [
    "evals_test"
   ]
  },
  {
   "cell_type": "code",
   "execution_count": 11,
   "metadata": {},
   "outputs": [],
   "source": [
    "# Transform function for evaluation\n",
    "def transform_evals(input_data):\n",
    "    output_data = [\n",
    "        input_data['Combination'],\n",
    "        {'sum_corr': input_data['sum_corr']},\n",
    "        {'sm_corr': input_data['eval_df']['corr'][0],\n",
    "         'ro_corr': input_data['eval_df']['corr'][1],\n",
    "         'le_corr': input_data['eval_df']['corr'][2]},\n",
    "        input_data['SinusParameters']\n",
    "    ]\n",
    "    return output_data"
   ]
  },
  {
   "cell_type": "code",
   "execution_count": 15,
   "metadata": {},
   "outputs": [],
   "source": [
    "# Transform evaluation\n",
    "ger_test_evals = transform_evals(evals_test[0])\n",
    "swe_test_evals = transform_evals(evals_test[1])\n",
    "esp_test_evals = transform_evals(evals_test[2])"
   ]
  },
  {
   "cell_type": "code",
   "execution_count": 16,
   "metadata": {},
   "outputs": [
    {
     "data": {
      "text/plain": [
       "[{'c_s': 420, 'b0': 0.4, 'g': 0.2, 'a': 8},\n",
       " {'sum_corr': 1.3360927120803074},\n",
       " {'sm_corr': 0.6231205215169023,\n",
       "  'ro_corr': 0.20308139419603025,\n",
       "  'le_corr': 0.509890796367375},\n",
       " {'amplitude': 1.5079919848812897,\n",
       "  'freq': 1.9945868187040925,\n",
       "  'phase': 4.537357776131512,\n",
       "  'center': -0.5272264925923769}]"
      ]
     },
     "execution_count": 16,
     "metadata": {},
     "output_type": "execute_result"
    }
   ],
   "source": [
    "swe_test_evals"
   ]
  },
  {
   "cell_type": "code",
   "execution_count": 17,
   "metadata": {},
   "outputs": [],
   "source": [
    "# Save evaluations\n",
    "with open('results/ger_test_eval.json', 'w') as file:\n",
    "    json.dump(ger_test_evals, file)\n",
    "\n",
    "with open('results/swe_test_eval.json', 'w') as file:\n",
    "    json.dump(swe_test_evals, file)\n",
    "\n",
    "with open('results/esp_test_eval.json', 'w') as file:\n",
    "    json.dump(esp_test_evals, file)"
   ]
  },
  {
   "cell_type": "code",
   "execution_count": 19,
   "metadata": {},
   "outputs": [],
   "source": [
    "# Save model predictions\n",
    "model_results[0].to_csv('data/output/ger_model_test.csv', index=False)\n",
    "model_results[1].to_csv('data/output/swe_model_test.csv', index=False)\n",
    "model_results[2].to_csv('data/output/esp_model_test.csv', index=False)"
   ]
  }
 ],
 "metadata": {
  "kernelspec": {
   "display_name": "esm",
   "language": "python",
   "name": "python3"
  },
  "language_info": {
   "codemirror_mode": {
    "name": "ipython",
    "version": 3
   },
   "file_extension": ".py",
   "mimetype": "text/x-python",
   "name": "python",
   "nbconvert_exporter": "python",
   "pygments_lexer": "ipython3",
   "version": "3.11.7"
  }
 },
 "nbformat": 4,
 "nbformat_minor": 2
}
